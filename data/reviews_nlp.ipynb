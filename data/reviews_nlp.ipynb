{
  "cells": [
    {
      "attachments": {},
      "cell_type": "markdown",
      "metadata": {
        "id": "4KRoYOAqbeMz"
      },
      "source": [
        "Install the following libraries: <br>\n",
        "-transformers <br>\n",
        "-torch <br>\n",
        "-pytorch <br>\n",
        "-tqdm <br>\n"
      ]
    },
    {
      "attachments": {},
      "cell_type": "markdown",
      "metadata": {
        "id": "x_5jcZ70beM8"
      },
      "source": [
        "SENTIMENT ANALYSIS - roBERTa pre-trained model classification. <br>\n",
        "\n",
        "This project will be using 'cardiffnlp/twitter-roberta-base-sentiment' as it is fine-tuned on a large corpus of Twitter data and specifically trained for sentiment analysis tasks."
      ]
    },
    {
      "cell_type": "code",
      "execution_count": 14,
      "metadata": {
        "colab": {
          "base_uri": "https://localhost:8080/"
        },
        "id": "n0EKW8x8cCGF",
        "outputId": "78c94c8e-d2cb-43b2-b97b-f037dbb00dd9"
      },
      "outputs": [
        {
          "name": "stdout",
          "output_type": "stream",
          "text": [
            "Looking in indexes: https://pypi.org/simple, https://us-python.pkg.dev/colab-wheels/public/simple/\n",
            "Requirement already satisfied: transformers in /usr/local/lib/python3.10/dist-packages (4.29.1)\n",
            "Requirement already satisfied: filelock in /usr/local/lib/python3.10/dist-packages (from transformers) (3.12.0)\n",
            "Requirement already satisfied: huggingface-hub<1.0,>=0.14.1 in /usr/local/lib/python3.10/dist-packages (from transformers) (0.14.1)\n",
            "Requirement already satisfied: numpy>=1.17 in /usr/local/lib/python3.10/dist-packages (from transformers) (1.22.4)\n",
            "Requirement already satisfied: packaging>=20.0 in /usr/local/lib/python3.10/dist-packages (from transformers) (23.1)\n",
            "Requirement already satisfied: pyyaml>=5.1 in /usr/local/lib/python3.10/dist-packages (from transformers) (6.0)\n",
            "Requirement already satisfied: regex!=2019.12.17 in /usr/local/lib/python3.10/dist-packages (from transformers) (2022.10.31)\n",
            "Requirement already satisfied: requests in /usr/local/lib/python3.10/dist-packages (from transformers) (2.27.1)\n",
            "Requirement already satisfied: tokenizers!=0.11.3,<0.14,>=0.11.1 in /usr/local/lib/python3.10/dist-packages (from transformers) (0.13.3)\n",
            "Requirement already satisfied: tqdm>=4.27 in /usr/local/lib/python3.10/dist-packages (from transformers) (4.65.0)\n",
            "Requirement already satisfied: fsspec in /usr/local/lib/python3.10/dist-packages (from huggingface-hub<1.0,>=0.14.1->transformers) (2023.4.0)\n",
            "Requirement already satisfied: typing-extensions>=3.7.4.3 in /usr/local/lib/python3.10/dist-packages (from huggingface-hub<1.0,>=0.14.1->transformers) (4.5.0)\n",
            "Requirement already satisfied: urllib3<1.27,>=1.21.1 in /usr/local/lib/python3.10/dist-packages (from requests->transformers) (1.26.15)\n",
            "Requirement already satisfied: certifi>=2017.4.17 in /usr/local/lib/python3.10/dist-packages (from requests->transformers) (2022.12.7)\n",
            "Requirement already satisfied: charset-normalizer~=2.0.0 in /usr/local/lib/python3.10/dist-packages (from requests->transformers) (2.0.12)\n",
            "Requirement already satisfied: idna<4,>=2.5 in /usr/local/lib/python3.10/dist-packages (from requests->transformers) (3.4)\n"
          ]
        }
      ],
      "source": [
        "!pip install transformers\n"
      ]
    },
    {
      "cell_type": "code",
      "execution_count": 35,
      "metadata": {
        "id": "mo6LlPVubeM9"
      },
      "outputs": [],
      "source": [
        "#Import libraries and dependencies\n",
        "import pandas as pd\n",
        "import numpy as np\n",
        "\n",
        "from tqdm import tqdm\n",
        "\n",
        "from transformers import AutoTokenizer, AutoModelForSequenceClassification\n",
        "from scipy.special import softmax"
      ]
    },
    {
      "cell_type": "code",
      "execution_count": 36,
      "metadata": {
        "colab": {
          "base_uri": "https://localhost:8080/",
          "height": 206
        },
        "id": "ChgGL0l9beM9",
        "outputId": "585940ae-4d9e-42a7-f4af-067e77ba06e4"
      },
      "outputs": [
        {
          "data": {
            "text/html": [
              "\n",
              "  <div id=\"df-925cd653-4d26-440d-909d-713a7b9536c7\">\n",
              "    <div class=\"colab-df-container\">\n",
              "      <div>\n",
              "<style scoped>\n",
              "    .dataframe tbody tr th:only-of-type {\n",
              "        vertical-align: middle;\n",
              "    }\n",
              "\n",
              "    .dataframe tbody tr th {\n",
              "        vertical-align: top;\n",
              "    }\n",
              "\n",
              "    .dataframe thead th {\n",
              "        text-align: right;\n",
              "    }\n",
              "</style>\n",
              "<table border=\"1\" class=\"dataframe\">\n",
              "  <thead>\n",
              "    <tr style=\"text-align: right;\">\n",
              "      <th></th>\n",
              "      <th>Id</th>\n",
              "      <th>restaurant_ids</th>\n",
              "      <th>id_review</th>\n",
              "      <th>caption</th>\n",
              "      <th>relative_date</th>\n",
              "      <th>username</th>\n",
              "      <th>name</th>\n",
              "      <th>cuisine</th>\n",
              "    </tr>\n",
              "  </thead>\n",
              "  <tbody>\n",
              "    <tr>\n",
              "      <th>0</th>\n",
              "      <td>0</td>\n",
              "      <td>1</td>\n",
              "      <td>ChdDSUhNMG9nS0VJQ0FnSURSOTRpbmxnRRAB</td>\n",
              "      <td>Great experience</td>\n",
              "      <td>6 days ago</td>\n",
              "      <td>Sandeep Kaur</td>\n",
              "      <td>Domino's Pizza Flinders St</td>\n",
              "      <td>Fast Food</td>\n",
              "    </tr>\n",
              "    <tr>\n",
              "      <th>1</th>\n",
              "      <td>1</td>\n",
              "      <td>1</td>\n",
              "      <td>ChdDSUhNMG9nS0VJQ0FnSURScktPaDV3RRAB</td>\n",
              "      <td>Must be the worst dominos in the world.   Pizz...</td>\n",
              "      <td>3 weeks ago</td>\n",
              "      <td>Robert McFarland</td>\n",
              "      <td>Domino's Pizza Flinders St</td>\n",
              "      <td>Fast Food</td>\n",
              "    </tr>\n",
              "    <tr>\n",
              "      <th>2</th>\n",
              "      <td>2</td>\n",
              "      <td>1</td>\n",
              "      <td>ChZDSUhNMG9nS0VJQ0FnSURSNUotOUt3EAE</td>\n",
              "      <td>They are so nice and the Food is Perfect !!</td>\n",
              "      <td>3 weeks ago</td>\n",
              "      <td>Patricia Tchialeu</td>\n",
              "      <td>Domino's Pizza Flinders St</td>\n",
              "      <td>Fast Food</td>\n",
              "    </tr>\n",
              "    <tr>\n",
              "      <th>3</th>\n",
              "      <td>3</td>\n",
              "      <td>1</td>\n",
              "      <td>ChdDSUhNMG9nS0VJQ0FnSURSNklYTG93RRAB</td>\n",
              "      <td>Staff was friendly and helpful. The deals make...</td>\n",
              "      <td>3 weeks ago</td>\n",
              "      <td>Brent Folan</td>\n",
              "      <td>Domino's Pizza Flinders St</td>\n",
              "      <td>Fast Food</td>\n",
              "    </tr>\n",
              "    <tr>\n",
              "      <th>4</th>\n",
              "      <td>4</td>\n",
              "      <td>1</td>\n",
              "      <td>ChZDSUhNMG9nS0VJQ0FnSUNPNXJhd0VREAE</td>\n",
              "      <td>Been coming here for awhile usually happy</td>\n",
              "      <td>a month ago</td>\n",
              "      <td>Johnathan Vanderwerf</td>\n",
              "      <td>Domino's Pizza Flinders St</td>\n",
              "      <td>Fast Food</td>\n",
              "    </tr>\n",
              "  </tbody>\n",
              "</table>\n",
              "</div>\n",
              "      <button class=\"colab-df-convert\" onclick=\"convertToInteractive('df-925cd653-4d26-440d-909d-713a7b9536c7')\"\n",
              "              title=\"Convert this dataframe to an interactive table.\"\n",
              "              style=\"display:none;\">\n",
              "        \n",
              "  <svg xmlns=\"http://www.w3.org/2000/svg\" height=\"24px\"viewBox=\"0 0 24 24\"\n",
              "       width=\"24px\">\n",
              "    <path d=\"M0 0h24v24H0V0z\" fill=\"none\"/>\n",
              "    <path d=\"M18.56 5.44l.94 2.06.94-2.06 2.06-.94-2.06-.94-.94-2.06-.94 2.06-2.06.94zm-11 1L8.5 8.5l.94-2.06 2.06-.94-2.06-.94L8.5 2.5l-.94 2.06-2.06.94zm10 10l.94 2.06.94-2.06 2.06-.94-2.06-.94-.94-2.06-.94 2.06-2.06.94z\"/><path d=\"M17.41 7.96l-1.37-1.37c-.4-.4-.92-.59-1.43-.59-.52 0-1.04.2-1.43.59L10.3 9.45l-7.72 7.72c-.78.78-.78 2.05 0 2.83L4 21.41c.39.39.9.59 1.41.59.51 0 1.02-.2 1.41-.59l7.78-7.78 2.81-2.81c.8-.78.8-2.07 0-2.86zM5.41 20L4 18.59l7.72-7.72 1.47 1.35L5.41 20z\"/>\n",
              "  </svg>\n",
              "      </button>\n",
              "      \n",
              "  <style>\n",
              "    .colab-df-container {\n",
              "      display:flex;\n",
              "      flex-wrap:wrap;\n",
              "      gap: 12px;\n",
              "    }\n",
              "\n",
              "    .colab-df-convert {\n",
              "      background-color: #E8F0FE;\n",
              "      border: none;\n",
              "      border-radius: 50%;\n",
              "      cursor: pointer;\n",
              "      display: none;\n",
              "      fill: #1967D2;\n",
              "      height: 32px;\n",
              "      padding: 0 0 0 0;\n",
              "      width: 32px;\n",
              "    }\n",
              "\n",
              "    .colab-df-convert:hover {\n",
              "      background-color: #E2EBFA;\n",
              "      box-shadow: 0px 1px 2px rgba(60, 64, 67, 0.3), 0px 1px 3px 1px rgba(60, 64, 67, 0.15);\n",
              "      fill: #174EA6;\n",
              "    }\n",
              "\n",
              "    [theme=dark] .colab-df-convert {\n",
              "      background-color: #3B4455;\n",
              "      fill: #D2E3FC;\n",
              "    }\n",
              "\n",
              "    [theme=dark] .colab-df-convert:hover {\n",
              "      background-color: #434B5C;\n",
              "      box-shadow: 0px 1px 3px 1px rgba(0, 0, 0, 0.15);\n",
              "      filter: drop-shadow(0px 1px 2px rgba(0, 0, 0, 0.3));\n",
              "      fill: #FFFFFF;\n",
              "    }\n",
              "  </style>\n",
              "\n",
              "      <script>\n",
              "        const buttonEl =\n",
              "          document.querySelector('#df-925cd653-4d26-440d-909d-713a7b9536c7 button.colab-df-convert');\n",
              "        buttonEl.style.display =\n",
              "          google.colab.kernel.accessAllowed ? 'block' : 'none';\n",
              "\n",
              "        async function convertToInteractive(key) {\n",
              "          const element = document.querySelector('#df-925cd653-4d26-440d-909d-713a7b9536c7');\n",
              "          const dataTable =\n",
              "            await google.colab.kernel.invokeFunction('convertToInteractive',\n",
              "                                                     [key], {});\n",
              "          if (!dataTable) return;\n",
              "\n",
              "          const docLinkHtml = 'Like what you see? Visit the ' +\n",
              "            '<a target=\"_blank\" href=https://colab.research.google.com/notebooks/data_table.ipynb>data table notebook</a>'\n",
              "            + ' to learn more about interactive tables.';\n",
              "          element.innerHTML = '';\n",
              "          dataTable['output_type'] = 'display_data';\n",
              "          await google.colab.output.renderOutput(dataTable, element);\n",
              "          const docLink = document.createElement('div');\n",
              "          docLink.innerHTML = docLinkHtml;\n",
              "          element.appendChild(docLink);\n",
              "        }\n",
              "      </script>\n",
              "    </div>\n",
              "  </div>\n",
              "  "
            ],
            "text/plain": [
              "   Id  restaurant_ids                             id_review  \\\n",
              "0   0               1  ChdDSUhNMG9nS0VJQ0FnSURSOTRpbmxnRRAB   \n",
              "1   1               1  ChdDSUhNMG9nS0VJQ0FnSURScktPaDV3RRAB   \n",
              "2   2               1   ChZDSUhNMG9nS0VJQ0FnSURSNUotOUt3EAE   \n",
              "3   3               1  ChdDSUhNMG9nS0VJQ0FnSURSNklYTG93RRAB   \n",
              "4   4               1   ChZDSUhNMG9nS0VJQ0FnSUNPNXJhd0VREAE   \n",
              "\n",
              "                                             caption relative_date  \\\n",
              "0                                   Great experience    6 days ago   \n",
              "1  Must be the worst dominos in the world.   Pizz...   3 weeks ago   \n",
              "2        They are so nice and the Food is Perfect !!   3 weeks ago   \n",
              "3  Staff was friendly and helpful. The deals make...   3 weeks ago   \n",
              "4          Been coming here for awhile usually happy   a month ago   \n",
              "\n",
              "               username                        name    cuisine  \n",
              "0          Sandeep Kaur  Domino's Pizza Flinders St  Fast Food  \n",
              "1      Robert McFarland  Domino's Pizza Flinders St  Fast Food  \n",
              "2     Patricia Tchialeu  Domino's Pizza Flinders St  Fast Food  \n",
              "3           Brent Folan  Domino's Pizza Flinders St  Fast Food  \n",
              "4  Johnathan Vanderwerf  Domino's Pizza Flinders St  Fast Food  "
            ]
          },
          "execution_count": 36,
          "metadata": {},
          "output_type": "execute_result"
        }
      ],
      "source": [
        "# Load the reviews from your dataset\n",
        "df = pd.read_csv(\"cleaned_reviews2.csv\")\n",
        "\n",
        "df.head()\n",
        "\n",
        "\n",
        "# #Create and Id column\n",
        "df['Id'] = np.arange(len(df))\n",
        "df.head()\n",
        "\n",
        "\n",
        "# # #Rearrange the columns\n",
        "df = df[['Id', 'restaurant_ids', 'id_review', 'caption', 'relative_date', 'username', 'name', 'cuisine']]\n",
        "df.head()"
      ]
    },
    {
      "cell_type": "code",
      "execution_count": 37,
      "metadata": {
        "colab": {
          "base_uri": "https://localhost:8080/",
          "height": 206
        },
        "id": "wgCrkwkxfeyI",
        "outputId": "d5fd5e40-86f2-4b43-bf6b-6ded7a9996ae"
      },
      "outputs": [
        {
          "data": {
            "text/html": [
              "\n",
              "  <div id=\"df-fc96f0dd-ef8e-43b4-9d0b-69f5b8504b7b\">\n",
              "    <div class=\"colab-df-container\">\n",
              "      <div>\n",
              "<style scoped>\n",
              "    .dataframe tbody tr th:only-of-type {\n",
              "        vertical-align: middle;\n",
              "    }\n",
              "\n",
              "    .dataframe tbody tr th {\n",
              "        vertical-align: top;\n",
              "    }\n",
              "\n",
              "    .dataframe thead th {\n",
              "        text-align: right;\n",
              "    }\n",
              "</style>\n",
              "<table border=\"1\" class=\"dataframe\">\n",
              "  <thead>\n",
              "    <tr style=\"text-align: right;\">\n",
              "      <th></th>\n",
              "      <th>Id</th>\n",
              "      <th>restaurant_ids</th>\n",
              "      <th>id_review</th>\n",
              "      <th>caption</th>\n",
              "      <th>relative_date</th>\n",
              "      <th>username</th>\n",
              "      <th>name</th>\n",
              "      <th>cuisine</th>\n",
              "    </tr>\n",
              "  </thead>\n",
              "  <tbody>\n",
              "    <tr>\n",
              "      <th>14309</th>\n",
              "      <td>14309</td>\n",
              "      <td>652</td>\n",
              "      <td>ChZDSUhNMG9nS0VJQ0FnSURocThfa0xREAE</td>\n",
              "      <td>Went there with some friends. The pasta was de...</td>\n",
              "      <td>a month ago</td>\n",
              "      <td>Maria Varvara</td>\n",
              "      <td>Da Guido La Pasta</td>\n",
              "      <td>Italian</td>\n",
              "    </tr>\n",
              "    <tr>\n",
              "      <th>14310</th>\n",
              "      <td>14310</td>\n",
              "      <td>652</td>\n",
              "      <td>ChdDSUhNMG9nS0VJQ0FnSUNSdEtyQm13RRAB</td>\n",
              "      <td>We had a lovely dinner here tonight for my hus...</td>\n",
              "      <td>a month ago</td>\n",
              "      <td>Emily Dale</td>\n",
              "      <td>Da Guido La Pasta</td>\n",
              "      <td>Italian</td>\n",
              "    </tr>\n",
              "    <tr>\n",
              "      <th>14311</th>\n",
              "      <td>14311</td>\n",
              "      <td>652</td>\n",
              "      <td>ChdDSUhNMG9nS0VJQ0FnSURoOTd5RmtnRRAB</td>\n",
              "      <td>We rocked in late and were greeted with wonder...</td>\n",
              "      <td>a month ago</td>\n",
              "      <td>Kat Moore</td>\n",
              "      <td>Da Guido La Pasta</td>\n",
              "      <td>Italian</td>\n",
              "    </tr>\n",
              "    <tr>\n",
              "      <th>14312</th>\n",
              "      <td>14312</td>\n",
              "      <td>652</td>\n",
              "      <td>ChdDSUhNMG9nS0VJQ0FnSURoeC1ua2dRRRAB</td>\n",
              "      <td>Super relaxed and authentic atmosphere with th...</td>\n",
              "      <td>a month ago</td>\n",
              "      <td>Leslie Schmidt</td>\n",
              "      <td>Da Guido La Pasta</td>\n",
              "      <td>Italian</td>\n",
              "    </tr>\n",
              "    <tr>\n",
              "      <th>14313</th>\n",
              "      <td>14313</td>\n",
              "      <td>652</td>\n",
              "      <td>ChZDSUhNMG9nS0VJQ0FnSURobTV6UUhBEAE</td>\n",
              "      <td>Mircos service tonight was amazing, we loved e...</td>\n",
              "      <td>a month ago</td>\n",
              "      <td>Shaun Marolia</td>\n",
              "      <td>Da Guido La Pasta</td>\n",
              "      <td>Italian</td>\n",
              "    </tr>\n",
              "  </tbody>\n",
              "</table>\n",
              "</div>\n",
              "      <button class=\"colab-df-convert\" onclick=\"convertToInteractive('df-fc96f0dd-ef8e-43b4-9d0b-69f5b8504b7b')\"\n",
              "              title=\"Convert this dataframe to an interactive table.\"\n",
              "              style=\"display:none;\">\n",
              "        \n",
              "  <svg xmlns=\"http://www.w3.org/2000/svg\" height=\"24px\"viewBox=\"0 0 24 24\"\n",
              "       width=\"24px\">\n",
              "    <path d=\"M0 0h24v24H0V0z\" fill=\"none\"/>\n",
              "    <path d=\"M18.56 5.44l.94 2.06.94-2.06 2.06-.94-2.06-.94-.94-2.06-.94 2.06-2.06.94zm-11 1L8.5 8.5l.94-2.06 2.06-.94-2.06-.94L8.5 2.5l-.94 2.06-2.06.94zm10 10l.94 2.06.94-2.06 2.06-.94-2.06-.94-.94-2.06-.94 2.06-2.06.94z\"/><path d=\"M17.41 7.96l-1.37-1.37c-.4-.4-.92-.59-1.43-.59-.52 0-1.04.2-1.43.59L10.3 9.45l-7.72 7.72c-.78.78-.78 2.05 0 2.83L4 21.41c.39.39.9.59 1.41.59.51 0 1.02-.2 1.41-.59l7.78-7.78 2.81-2.81c.8-.78.8-2.07 0-2.86zM5.41 20L4 18.59l7.72-7.72 1.47 1.35L5.41 20z\"/>\n",
              "  </svg>\n",
              "      </button>\n",
              "      \n",
              "  <style>\n",
              "    .colab-df-container {\n",
              "      display:flex;\n",
              "      flex-wrap:wrap;\n",
              "      gap: 12px;\n",
              "    }\n",
              "\n",
              "    .colab-df-convert {\n",
              "      background-color: #E8F0FE;\n",
              "      border: none;\n",
              "      border-radius: 50%;\n",
              "      cursor: pointer;\n",
              "      display: none;\n",
              "      fill: #1967D2;\n",
              "      height: 32px;\n",
              "      padding: 0 0 0 0;\n",
              "      width: 32px;\n",
              "    }\n",
              "\n",
              "    .colab-df-convert:hover {\n",
              "      background-color: #E2EBFA;\n",
              "      box-shadow: 0px 1px 2px rgba(60, 64, 67, 0.3), 0px 1px 3px 1px rgba(60, 64, 67, 0.15);\n",
              "      fill: #174EA6;\n",
              "    }\n",
              "\n",
              "    [theme=dark] .colab-df-convert {\n",
              "      background-color: #3B4455;\n",
              "      fill: #D2E3FC;\n",
              "    }\n",
              "\n",
              "    [theme=dark] .colab-df-convert:hover {\n",
              "      background-color: #434B5C;\n",
              "      box-shadow: 0px 1px 3px 1px rgba(0, 0, 0, 0.15);\n",
              "      filter: drop-shadow(0px 1px 2px rgba(0, 0, 0, 0.3));\n",
              "      fill: #FFFFFF;\n",
              "    }\n",
              "  </style>\n",
              "\n",
              "      <script>\n",
              "        const buttonEl =\n",
              "          document.querySelector('#df-fc96f0dd-ef8e-43b4-9d0b-69f5b8504b7b button.colab-df-convert');\n",
              "        buttonEl.style.display =\n",
              "          google.colab.kernel.accessAllowed ? 'block' : 'none';\n",
              "\n",
              "        async function convertToInteractive(key) {\n",
              "          const element = document.querySelector('#df-fc96f0dd-ef8e-43b4-9d0b-69f5b8504b7b');\n",
              "          const dataTable =\n",
              "            await google.colab.kernel.invokeFunction('convertToInteractive',\n",
              "                                                     [key], {});\n",
              "          if (!dataTable) return;\n",
              "\n",
              "          const docLinkHtml = 'Like what you see? Visit the ' +\n",
              "            '<a target=\"_blank\" href=https://colab.research.google.com/notebooks/data_table.ipynb>data table notebook</a>'\n",
              "            + ' to learn more about interactive tables.';\n",
              "          element.innerHTML = '';\n",
              "          dataTable['output_type'] = 'display_data';\n",
              "          await google.colab.output.renderOutput(dataTable, element);\n",
              "          const docLink = document.createElement('div');\n",
              "          docLink.innerHTML = docLinkHtml;\n",
              "          element.appendChild(docLink);\n",
              "        }\n",
              "      </script>\n",
              "    </div>\n",
              "  </div>\n",
              "  "
            ],
            "text/plain": [
              "          Id  restaurant_ids                             id_review  \\\n",
              "14309  14309             652   ChZDSUhNMG9nS0VJQ0FnSURocThfa0xREAE   \n",
              "14310  14310             652  ChdDSUhNMG9nS0VJQ0FnSUNSdEtyQm13RRAB   \n",
              "14311  14311             652  ChdDSUhNMG9nS0VJQ0FnSURoOTd5RmtnRRAB   \n",
              "14312  14312             652  ChdDSUhNMG9nS0VJQ0FnSURoeC1ua2dRRRAB   \n",
              "14313  14313             652   ChZDSUhNMG9nS0VJQ0FnSURobTV6UUhBEAE   \n",
              "\n",
              "                                                 caption relative_date  \\\n",
              "14309  Went there with some friends. The pasta was de...   a month ago   \n",
              "14310  We had a lovely dinner here tonight for my hus...   a month ago   \n",
              "14311  We rocked in late and were greeted with wonder...   a month ago   \n",
              "14312  Super relaxed and authentic atmosphere with th...   a month ago   \n",
              "14313  Mircos service tonight was amazing, we loved e...   a month ago   \n",
              "\n",
              "             username               name  cuisine  \n",
              "14309   Maria Varvara  Da Guido La Pasta  Italian  \n",
              "14310      Emily Dale  Da Guido La Pasta  Italian  \n",
              "14311       Kat Moore  Da Guido La Pasta  Italian  \n",
              "14312  Leslie Schmidt  Da Guido La Pasta  Italian  \n",
              "14313   Shaun Marolia  Da Guido La Pasta  Italian  "
            ]
          },
          "execution_count": 37,
          "metadata": {},
          "output_type": "execute_result"
        }
      ],
      "source": [
        "df.tail()"
      ]
    },
    {
      "cell_type": "code",
      "execution_count": 38,
      "metadata": {
        "colab": {
          "base_uri": "https://localhost:8080/"
        },
        "id": "2nrVcdCxFN9l",
        "outputId": "c73647af-3a91-4eb1-db9f-072c0f509022"
      },
      "outputs": [
        {
          "data": {
            "text/plain": [
              "Id                0\n",
              "restaurant_ids    0\n",
              "id_review         0\n",
              "caption           0\n",
              "relative_date     0\n",
              "username          0\n",
              "name              0\n",
              "cuisine           0\n",
              "dtype: int64"
            ]
          },
          "execution_count": 38,
          "metadata": {},
          "output_type": "execute_result"
        }
      ],
      "source": [
        "null_values = df.isnull()\n",
        "\n",
        "null_values.sum()\n",
        "\n",
        "# # Checking for NaN values\n"
      ]
    },
    {
      "cell_type": "code",
      "execution_count": 39,
      "metadata": {
        "colab": {
          "base_uri": "https://localhost:8080/"
        },
        "id": "Uv8Y7lwHGlJk",
        "outputId": "e1eb6f26-bb4f-4080-f61c-cbdda2177500"
      },
      "outputs": [
        {
          "data": {
            "text/plain": [
              "Id                0\n",
              "restaurant_ids    0\n",
              "id_review         0\n",
              "caption           0\n",
              "relative_date     0\n",
              "username          0\n",
              "name              0\n",
              "cuisine           0\n",
              "dtype: int64"
            ]
          },
          "execution_count": 39,
          "metadata": {},
          "output_type": "execute_result"
        }
      ],
      "source": [
        "nan_values = df.isna()\n",
        "\n",
        "nan_values.sum()"
      ]
    },
    {
      "cell_type": "code",
      "execution_count": 40,
      "metadata": {
        "id": "YW1jZsc-beM-"
      },
      "outputs": [],
      "source": [
        "#Pull the pre-trained model provided by HuggingFace\n",
        "\n",
        "model_name = f\"cardiffnlp/twitter-roberta-base-sentiment\"\n",
        "\n",
        "tokenizer = AutoTokenizer.from_pretrained(model_name)\n",
        "\n",
        "model = AutoModelForSequenceClassification.from_pretrained(model_name)"
      ]
    },
    {
      "cell_type": "code",
      "execution_count": 41,
      "metadata": {
        "colab": {
          "base_uri": "https://localhost:8080/"
        },
        "id": "ZDD3Xg40beM-",
        "outputId": "7dd141a8-7e06-45e1-b36f-746191fcf6c6"
      },
      "outputs": [
        {
          "name": "stdout",
          "output_type": "stream",
          "text": [
            "everything is good except no coffee or tea available\n"
          ]
        }
      ],
      "source": [
        "#Create one example\n",
        "\n",
        "example = df['caption'][1000]\n",
        "print(example)"
      ]
    },
    {
      "cell_type": "code",
      "execution_count": 42,
      "metadata": {
        "id": "KpUFr18VbeM_"
      },
      "outputs": [],
      "source": [
        "#Create a function through to process the example into the pre-trained model\n",
        "\n",
        "def roberta_polarity_scores(example):\n",
        "    encoded_text = tokenizer(example, return_tensors='pt')\n",
        "    output = model(**encoded_text)\n",
        "    scores = output[0][0].detach().numpy()\n",
        "    scores = softmax(scores)\n",
        "\n",
        "    scores_dict = {\n",
        "        'roberta_neg': scores[0],\n",
        "        'roberta_neu': scores[1],\n",
        "        'roberta_pos': scores[2]\n",
        "    }\n",
        "\n",
        "    return scores_dict"
      ]
    },
    {
      "cell_type": "code",
      "execution_count": 44,
      "metadata": {
        "colab": {
          "base_uri": "https://localhost:8080/"
        },
        "id": "uS0shVg9beM_",
        "outputId": "ba72658b-efdd-4cba-cf21-9759808167ca"
      },
      "outputs": [
        {
          "name": "stderr",
          "output_type": "stream",
          "text": [
            "  7%|▋         | 1029/14314 [03:59<47:06,  4.70it/s]  "
          ]
        },
        {
          "name": "stdout",
          "output_type": "stream",
          "text": [
            "Broke for id 1027\n"
          ]
        },
        {
          "name": "stderr",
          "output_type": "stream",
          "text": [
            " 10%|▉         | 1384/14314 [05:31<45:25,  4.74it/s]  "
          ]
        },
        {
          "name": "stdout",
          "output_type": "stream",
          "text": [
            "Broke for id 1382\n"
          ]
        },
        {
          "name": "stderr",
          "output_type": "stream",
          "text": [
            " 12%|█▏        | 1735/14314 [06:58<44:50,  4.68it/s]"
          ]
        },
        {
          "name": "stdout",
          "output_type": "stream",
          "text": [
            "Broke for id 1735\n"
          ]
        },
        {
          "name": "stderr",
          "output_type": "stream",
          "text": [
            " 19%|█▉        | 2711/14314 [10:52<49:32,  3.90it/s]"
          ]
        },
        {
          "name": "stdout",
          "output_type": "stream",
          "text": [
            "Broke for id 2711\n"
          ]
        },
        {
          "name": "stderr",
          "output_type": "stream",
          "text": [
            " 24%|██▍       | 3466/14314 [13:45<36:41,  4.93it/s]"
          ]
        },
        {
          "name": "stdout",
          "output_type": "stream",
          "text": [
            "Broke for id 3466\n"
          ]
        },
        {
          "name": "stderr",
          "output_type": "stream",
          "text": [
            " 36%|███▌      | 5085/14314 [20:12<33:43,  4.56it/s]"
          ]
        },
        {
          "name": "stdout",
          "output_type": "stream",
          "text": [
            "Broke for id 5083\n"
          ]
        },
        {
          "name": "stderr",
          "output_type": "stream",
          "text": [
            " 43%|████▎     | 6090/14314 [24:04<30:43,  4.46it/s]"
          ]
        },
        {
          "name": "stdout",
          "output_type": "stream",
          "text": [
            "Broke for id 6090\n"
          ]
        },
        {
          "name": "stderr",
          "output_type": "stream",
          "text": [
            " 48%|████▊     | 6814/14314 [26:57<27:47,  4.50it/s]"
          ]
        },
        {
          "name": "stdout",
          "output_type": "stream",
          "text": [
            "Broke for id 6812\n"
          ]
        },
        {
          "name": "stderr",
          "output_type": "stream",
          "text": [
            " 49%|████▉     | 7060/14314 [28:16<17:56,  6.74it/s]"
          ]
        },
        {
          "name": "stdout",
          "output_type": "stream",
          "text": [
            "Broke for id 7058\n"
          ]
        },
        {
          "name": "stderr",
          "output_type": "stream",
          "text": [
            " 57%|█████▋    | 8225/14314 [32:42<18:01,  5.63it/s]"
          ]
        },
        {
          "name": "stdout",
          "output_type": "stream",
          "text": [
            "Broke for id 8223\n"
          ]
        },
        {
          "name": "stderr",
          "output_type": "stream",
          "text": [
            " 66%|██████▌   | 9450/14314 [37:44<23:20,  3.47it/s]"
          ]
        },
        {
          "name": "stdout",
          "output_type": "stream",
          "text": [
            "Broke for id 9448\n"
          ]
        },
        {
          "name": "stderr",
          "output_type": "stream",
          "text": [
            " 68%|██████▊   | 9684/14314 [38:50<23:27,  3.29it/s]"
          ]
        },
        {
          "name": "stdout",
          "output_type": "stream",
          "text": [
            "Broke for id 9682\n"
          ]
        },
        {
          "name": "stderr",
          "output_type": "stream",
          "text": [
            " 97%|█████████▋| 13814/14314 [54:29<01:44,  4.80it/s]"
          ]
        },
        {
          "name": "stdout",
          "output_type": "stream",
          "text": [
            "Broke for id 13814\n"
          ]
        },
        {
          "name": "stderr",
          "output_type": "stream",
          "text": [
            " 98%|█████████▊| 14037/14314 [55:21<00:48,  5.67it/s]"
          ]
        },
        {
          "name": "stdout",
          "output_type": "stream",
          "text": [
            "Broke for id 14035\n"
          ]
        },
        {
          "name": "stderr",
          "output_type": "stream",
          "text": [
            " 99%|█████████▉| 14145/14314 [55:48<01:24,  2.00it/s]"
          ]
        },
        {
          "name": "stdout",
          "output_type": "stream",
          "text": [
            "Broke for id 14145\n"
          ]
        },
        {
          "name": "stderr",
          "output_type": "stream",
          "text": [
            "100%|██████████| 14314/14314 [56:31<00:00,  4.22it/s]\n"
          ]
        }
      ],
      "source": [
        "#iterrate the function using a loop to each row in dataset\n",
        "#Use Try and Except for any errors\n",
        "\n",
        "res = {}\n",
        "\n",
        "for i, row in tqdm(df.iterrows(), total=len(df)):\n",
        "    try:\n",
        "        text = row['caption']\n",
        "        myid = row['Id']\n",
        "        roberta_result = roberta_polarity_scores(text)\n",
        "        res[myid] = roberta_result\n",
        "        \n",
        "    except (RuntimeError, IndexError):\n",
        "        print(f'Broke for id {myid}')"
      ]
    },
    {
      "cell_type": "code",
      "execution_count": 46,
      "metadata": {
        "colab": {
          "base_uri": "https://localhost:8080/",
          "height": 424
        },
        "id": "_9BEmbycbeM_",
        "outputId": "983978a7-67ec-414b-c74f-214c4116d63b"
      },
      "outputs": [
        {
          "data": {
            "text/html": [
              "\n",
              "  <div id=\"df-46d69de5-f717-4e3f-86eb-49487d1901d8\">\n",
              "    <div class=\"colab-df-container\">\n",
              "      <div>\n",
              "<style scoped>\n",
              "    .dataframe tbody tr th:only-of-type {\n",
              "        vertical-align: middle;\n",
              "    }\n",
              "\n",
              "    .dataframe tbody tr th {\n",
              "        vertical-align: top;\n",
              "    }\n",
              "\n",
              "    .dataframe thead th {\n",
              "        text-align: right;\n",
              "    }\n",
              "</style>\n",
              "<table border=\"1\" class=\"dataframe\">\n",
              "  <thead>\n",
              "    <tr style=\"text-align: right;\">\n",
              "      <th></th>\n",
              "      <th>roberta_neg</th>\n",
              "      <th>roberta_neu</th>\n",
              "      <th>roberta_pos</th>\n",
              "    </tr>\n",
              "  </thead>\n",
              "  <tbody>\n",
              "    <tr>\n",
              "      <th>0</th>\n",
              "      <td>0.005796</td>\n",
              "      <td>0.054793</td>\n",
              "      <td>0.939411</td>\n",
              "    </tr>\n",
              "    <tr>\n",
              "      <th>1</th>\n",
              "      <td>0.984013</td>\n",
              "      <td>0.013361</td>\n",
              "      <td>0.002626</td>\n",
              "    </tr>\n",
              "    <tr>\n",
              "      <th>2</th>\n",
              "      <td>0.002001</td>\n",
              "      <td>0.007393</td>\n",
              "      <td>0.990606</td>\n",
              "    </tr>\n",
              "    <tr>\n",
              "      <th>3</th>\n",
              "      <td>0.003910</td>\n",
              "      <td>0.041748</td>\n",
              "      <td>0.954342</td>\n",
              "    </tr>\n",
              "    <tr>\n",
              "      <th>4</th>\n",
              "      <td>0.003776</td>\n",
              "      <td>0.144302</td>\n",
              "      <td>0.851922</td>\n",
              "    </tr>\n",
              "    <tr>\n",
              "      <th>...</th>\n",
              "      <td>...</td>\n",
              "      <td>...</td>\n",
              "      <td>...</td>\n",
              "    </tr>\n",
              "    <tr>\n",
              "      <th>14309</th>\n",
              "      <td>0.001061</td>\n",
              "      <td>0.009207</td>\n",
              "      <td>0.989732</td>\n",
              "    </tr>\n",
              "    <tr>\n",
              "      <th>14310</th>\n",
              "      <td>0.001514</td>\n",
              "      <td>0.005663</td>\n",
              "      <td>0.992823</td>\n",
              "    </tr>\n",
              "    <tr>\n",
              "      <th>14311</th>\n",
              "      <td>0.001741</td>\n",
              "      <td>0.010284</td>\n",
              "      <td>0.987975</td>\n",
              "    </tr>\n",
              "    <tr>\n",
              "      <th>14312</th>\n",
              "      <td>0.001966</td>\n",
              "      <td>0.005208</td>\n",
              "      <td>0.992825</td>\n",
              "    </tr>\n",
              "    <tr>\n",
              "      <th>14313</th>\n",
              "      <td>0.001734</td>\n",
              "      <td>0.005403</td>\n",
              "      <td>0.992863</td>\n",
              "    </tr>\n",
              "  </tbody>\n",
              "</table>\n",
              "<p>14299 rows × 3 columns</p>\n",
              "</div>\n",
              "      <button class=\"colab-df-convert\" onclick=\"convertToInteractive('df-46d69de5-f717-4e3f-86eb-49487d1901d8')\"\n",
              "              title=\"Convert this dataframe to an interactive table.\"\n",
              "              style=\"display:none;\">\n",
              "        \n",
              "  <svg xmlns=\"http://www.w3.org/2000/svg\" height=\"24px\"viewBox=\"0 0 24 24\"\n",
              "       width=\"24px\">\n",
              "    <path d=\"M0 0h24v24H0V0z\" fill=\"none\"/>\n",
              "    <path d=\"M18.56 5.44l.94 2.06.94-2.06 2.06-.94-2.06-.94-.94-2.06-.94 2.06-2.06.94zm-11 1L8.5 8.5l.94-2.06 2.06-.94-2.06-.94L8.5 2.5l-.94 2.06-2.06.94zm10 10l.94 2.06.94-2.06 2.06-.94-2.06-.94-.94-2.06-.94 2.06-2.06.94z\"/><path d=\"M17.41 7.96l-1.37-1.37c-.4-.4-.92-.59-1.43-.59-.52 0-1.04.2-1.43.59L10.3 9.45l-7.72 7.72c-.78.78-.78 2.05 0 2.83L4 21.41c.39.39.9.59 1.41.59.51 0 1.02-.2 1.41-.59l7.78-7.78 2.81-2.81c.8-.78.8-2.07 0-2.86zM5.41 20L4 18.59l7.72-7.72 1.47 1.35L5.41 20z\"/>\n",
              "  </svg>\n",
              "      </button>\n",
              "      \n",
              "  <style>\n",
              "    .colab-df-container {\n",
              "      display:flex;\n",
              "      flex-wrap:wrap;\n",
              "      gap: 12px;\n",
              "    }\n",
              "\n",
              "    .colab-df-convert {\n",
              "      background-color: #E8F0FE;\n",
              "      border: none;\n",
              "      border-radius: 50%;\n",
              "      cursor: pointer;\n",
              "      display: none;\n",
              "      fill: #1967D2;\n",
              "      height: 32px;\n",
              "      padding: 0 0 0 0;\n",
              "      width: 32px;\n",
              "    }\n",
              "\n",
              "    .colab-df-convert:hover {\n",
              "      background-color: #E2EBFA;\n",
              "      box-shadow: 0px 1px 2px rgba(60, 64, 67, 0.3), 0px 1px 3px 1px rgba(60, 64, 67, 0.15);\n",
              "      fill: #174EA6;\n",
              "    }\n",
              "\n",
              "    [theme=dark] .colab-df-convert {\n",
              "      background-color: #3B4455;\n",
              "      fill: #D2E3FC;\n",
              "    }\n",
              "\n",
              "    [theme=dark] .colab-df-convert:hover {\n",
              "      background-color: #434B5C;\n",
              "      box-shadow: 0px 1px 3px 1px rgba(0, 0, 0, 0.15);\n",
              "      filter: drop-shadow(0px 1px 2px rgba(0, 0, 0, 0.3));\n",
              "      fill: #FFFFFF;\n",
              "    }\n",
              "  </style>\n",
              "\n",
              "      <script>\n",
              "        const buttonEl =\n",
              "          document.querySelector('#df-46d69de5-f717-4e3f-86eb-49487d1901d8 button.colab-df-convert');\n",
              "        buttonEl.style.display =\n",
              "          google.colab.kernel.accessAllowed ? 'block' : 'none';\n",
              "\n",
              "        async function convertToInteractive(key) {\n",
              "          const element = document.querySelector('#df-46d69de5-f717-4e3f-86eb-49487d1901d8');\n",
              "          const dataTable =\n",
              "            await google.colab.kernel.invokeFunction('convertToInteractive',\n",
              "                                                     [key], {});\n",
              "          if (!dataTable) return;\n",
              "\n",
              "          const docLinkHtml = 'Like what you see? Visit the ' +\n",
              "            '<a target=\"_blank\" href=https://colab.research.google.com/notebooks/data_table.ipynb>data table notebook</a>'\n",
              "            + ' to learn more about interactive tables.';\n",
              "          element.innerHTML = '';\n",
              "          dataTable['output_type'] = 'display_data';\n",
              "          await google.colab.output.renderOutput(dataTable, element);\n",
              "          const docLink = document.createElement('div');\n",
              "          docLink.innerHTML = docLinkHtml;\n",
              "          element.appendChild(docLink);\n",
              "        }\n",
              "      </script>\n",
              "    </div>\n",
              "  </div>\n",
              "  "
            ],
            "text/plain": [
              "       roberta_neg  roberta_neu  roberta_pos\n",
              "0         0.005796     0.054793     0.939411\n",
              "1         0.984013     0.013361     0.002626\n",
              "2         0.002001     0.007393     0.990606\n",
              "3         0.003910     0.041748     0.954342\n",
              "4         0.003776     0.144302     0.851922\n",
              "...            ...          ...          ...\n",
              "14309     0.001061     0.009207     0.989732\n",
              "14310     0.001514     0.005663     0.992823\n",
              "14311     0.001741     0.010284     0.987975\n",
              "14312     0.001966     0.005208     0.992825\n",
              "14313     0.001734     0.005403     0.992863\n",
              "\n",
              "[14299 rows x 3 columns]"
            ]
          },
          "execution_count": 46,
          "metadata": {},
          "output_type": "execute_result"
        }
      ],
      "source": [
        "#Create a DataFrame\n",
        "results_df = pd.DataFrame(res)\n",
        "\n",
        "results_df.head()\n",
        "\n",
        "#Flip the columns and rows\n",
        "\n",
        "results_df = results_df.T\n",
        "\n",
        "\n",
        "results_df"
      ]
    },
    {
      "cell_type": "code",
      "execution_count": 47,
      "metadata": {
        "colab": {
          "base_uri": "https://localhost:8080/",
          "height": 641
        },
        "id": "fuuz-_sbbeNA",
        "outputId": "c9f66ad8-ed7c-4c3e-b055-df59bbf2f217"
      },
      "outputs": [
        {
          "data": {
            "text/html": [
              "\n",
              "  <div id=\"df-f829c634-6f16-49e2-9ff2-1d746c4694ab\">\n",
              "    <div class=\"colab-df-container\">\n",
              "      <div>\n",
              "<style scoped>\n",
              "    .dataframe tbody tr th:only-of-type {\n",
              "        vertical-align: middle;\n",
              "    }\n",
              "\n",
              "    .dataframe tbody tr th {\n",
              "        vertical-align: top;\n",
              "    }\n",
              "\n",
              "    .dataframe thead th {\n",
              "        text-align: right;\n",
              "    }\n",
              "</style>\n",
              "<table border=\"1\" class=\"dataframe\">\n",
              "  <thead>\n",
              "    <tr style=\"text-align: right;\">\n",
              "      <th></th>\n",
              "      <th>Id</th>\n",
              "      <th>roberta_neg</th>\n",
              "      <th>roberta_neu</th>\n",
              "      <th>roberta_pos</th>\n",
              "      <th>restaurant_ids</th>\n",
              "      <th>id_review</th>\n",
              "      <th>caption</th>\n",
              "      <th>relative_date</th>\n",
              "      <th>username</th>\n",
              "      <th>name</th>\n",
              "      <th>cuisine</th>\n",
              "    </tr>\n",
              "  </thead>\n",
              "  <tbody>\n",
              "    <tr>\n",
              "      <th>0</th>\n",
              "      <td>0</td>\n",
              "      <td>0.005796</td>\n",
              "      <td>0.054793</td>\n",
              "      <td>0.939411</td>\n",
              "      <td>1</td>\n",
              "      <td>ChdDSUhNMG9nS0VJQ0FnSURSOTRpbmxnRRAB</td>\n",
              "      <td>Great experience</td>\n",
              "      <td>6 days ago</td>\n",
              "      <td>Sandeep Kaur</td>\n",
              "      <td>Domino's Pizza Flinders St</td>\n",
              "      <td>Fast Food</td>\n",
              "    </tr>\n",
              "    <tr>\n",
              "      <th>1</th>\n",
              "      <td>1</td>\n",
              "      <td>0.984013</td>\n",
              "      <td>0.013361</td>\n",
              "      <td>0.002626</td>\n",
              "      <td>1</td>\n",
              "      <td>ChdDSUhNMG9nS0VJQ0FnSURScktPaDV3RRAB</td>\n",
              "      <td>Must be the worst dominos in the world.   Pizz...</td>\n",
              "      <td>3 weeks ago</td>\n",
              "      <td>Robert McFarland</td>\n",
              "      <td>Domino's Pizza Flinders St</td>\n",
              "      <td>Fast Food</td>\n",
              "    </tr>\n",
              "    <tr>\n",
              "      <th>2</th>\n",
              "      <td>2</td>\n",
              "      <td>0.002001</td>\n",
              "      <td>0.007393</td>\n",
              "      <td>0.990606</td>\n",
              "      <td>1</td>\n",
              "      <td>ChZDSUhNMG9nS0VJQ0FnSURSNUotOUt3EAE</td>\n",
              "      <td>They are so nice and the Food is Perfect !!</td>\n",
              "      <td>3 weeks ago</td>\n",
              "      <td>Patricia Tchialeu</td>\n",
              "      <td>Domino's Pizza Flinders St</td>\n",
              "      <td>Fast Food</td>\n",
              "    </tr>\n",
              "    <tr>\n",
              "      <th>3</th>\n",
              "      <td>3</td>\n",
              "      <td>0.003910</td>\n",
              "      <td>0.041748</td>\n",
              "      <td>0.954342</td>\n",
              "      <td>1</td>\n",
              "      <td>ChdDSUhNMG9nS0VJQ0FnSURSNklYTG93RRAB</td>\n",
              "      <td>Staff was friendly and helpful. The deals make...</td>\n",
              "      <td>3 weeks ago</td>\n",
              "      <td>Brent Folan</td>\n",
              "      <td>Domino's Pizza Flinders St</td>\n",
              "      <td>Fast Food</td>\n",
              "    </tr>\n",
              "    <tr>\n",
              "      <th>4</th>\n",
              "      <td>4</td>\n",
              "      <td>0.003776</td>\n",
              "      <td>0.144302</td>\n",
              "      <td>0.851922</td>\n",
              "      <td>1</td>\n",
              "      <td>ChZDSUhNMG9nS0VJQ0FnSUNPNXJhd0VREAE</td>\n",
              "      <td>Been coming here for awhile usually happy</td>\n",
              "      <td>a month ago</td>\n",
              "      <td>Johnathan Vanderwerf</td>\n",
              "      <td>Domino's Pizza Flinders St</td>\n",
              "      <td>Fast Food</td>\n",
              "    </tr>\n",
              "    <tr>\n",
              "      <th>...</th>\n",
              "      <td>...</td>\n",
              "      <td>...</td>\n",
              "      <td>...</td>\n",
              "      <td>...</td>\n",
              "      <td>...</td>\n",
              "      <td>...</td>\n",
              "      <td>...</td>\n",
              "      <td>...</td>\n",
              "      <td>...</td>\n",
              "      <td>...</td>\n",
              "      <td>...</td>\n",
              "    </tr>\n",
              "    <tr>\n",
              "      <th>14294</th>\n",
              "      <td>14309</td>\n",
              "      <td>0.001061</td>\n",
              "      <td>0.009207</td>\n",
              "      <td>0.989732</td>\n",
              "      <td>652</td>\n",
              "      <td>ChZDSUhNMG9nS0VJQ0FnSURocThfa0xREAE</td>\n",
              "      <td>Went there with some friends. The pasta was de...</td>\n",
              "      <td>a month ago</td>\n",
              "      <td>Maria Varvara</td>\n",
              "      <td>Da Guido La Pasta</td>\n",
              "      <td>Italian</td>\n",
              "    </tr>\n",
              "    <tr>\n",
              "      <th>14295</th>\n",
              "      <td>14310</td>\n",
              "      <td>0.001514</td>\n",
              "      <td>0.005663</td>\n",
              "      <td>0.992823</td>\n",
              "      <td>652</td>\n",
              "      <td>ChdDSUhNMG9nS0VJQ0FnSUNSdEtyQm13RRAB</td>\n",
              "      <td>We had a lovely dinner here tonight for my hus...</td>\n",
              "      <td>a month ago</td>\n",
              "      <td>Emily Dale</td>\n",
              "      <td>Da Guido La Pasta</td>\n",
              "      <td>Italian</td>\n",
              "    </tr>\n",
              "    <tr>\n",
              "      <th>14296</th>\n",
              "      <td>14311</td>\n",
              "      <td>0.001741</td>\n",
              "      <td>0.010284</td>\n",
              "      <td>0.987975</td>\n",
              "      <td>652</td>\n",
              "      <td>ChdDSUhNMG9nS0VJQ0FnSURoOTd5RmtnRRAB</td>\n",
              "      <td>We rocked in late and were greeted with wonder...</td>\n",
              "      <td>a month ago</td>\n",
              "      <td>Kat Moore</td>\n",
              "      <td>Da Guido La Pasta</td>\n",
              "      <td>Italian</td>\n",
              "    </tr>\n",
              "    <tr>\n",
              "      <th>14297</th>\n",
              "      <td>14312</td>\n",
              "      <td>0.001966</td>\n",
              "      <td>0.005208</td>\n",
              "      <td>0.992825</td>\n",
              "      <td>652</td>\n",
              "      <td>ChdDSUhNMG9nS0VJQ0FnSURoeC1ua2dRRRAB</td>\n",
              "      <td>Super relaxed and authentic atmosphere with th...</td>\n",
              "      <td>a month ago</td>\n",
              "      <td>Leslie Schmidt</td>\n",
              "      <td>Da Guido La Pasta</td>\n",
              "      <td>Italian</td>\n",
              "    </tr>\n",
              "    <tr>\n",
              "      <th>14298</th>\n",
              "      <td>14313</td>\n",
              "      <td>0.001734</td>\n",
              "      <td>0.005403</td>\n",
              "      <td>0.992863</td>\n",
              "      <td>652</td>\n",
              "      <td>ChZDSUhNMG9nS0VJQ0FnSURobTV6UUhBEAE</td>\n",
              "      <td>Mircos service tonight was amazing, we loved e...</td>\n",
              "      <td>a month ago</td>\n",
              "      <td>Shaun Marolia</td>\n",
              "      <td>Da Guido La Pasta</td>\n",
              "      <td>Italian</td>\n",
              "    </tr>\n",
              "  </tbody>\n",
              "</table>\n",
              "<p>14299 rows × 11 columns</p>\n",
              "</div>\n",
              "      <button class=\"colab-df-convert\" onclick=\"convertToInteractive('df-f829c634-6f16-49e2-9ff2-1d746c4694ab')\"\n",
              "              title=\"Convert this dataframe to an interactive table.\"\n",
              "              style=\"display:none;\">\n",
              "        \n",
              "  <svg xmlns=\"http://www.w3.org/2000/svg\" height=\"24px\"viewBox=\"0 0 24 24\"\n",
              "       width=\"24px\">\n",
              "    <path d=\"M0 0h24v24H0V0z\" fill=\"none\"/>\n",
              "    <path d=\"M18.56 5.44l.94 2.06.94-2.06 2.06-.94-2.06-.94-.94-2.06-.94 2.06-2.06.94zm-11 1L8.5 8.5l.94-2.06 2.06-.94-2.06-.94L8.5 2.5l-.94 2.06-2.06.94zm10 10l.94 2.06.94-2.06 2.06-.94-2.06-.94-.94-2.06-.94 2.06-2.06.94z\"/><path d=\"M17.41 7.96l-1.37-1.37c-.4-.4-.92-.59-1.43-.59-.52 0-1.04.2-1.43.59L10.3 9.45l-7.72 7.72c-.78.78-.78 2.05 0 2.83L4 21.41c.39.39.9.59 1.41.59.51 0 1.02-.2 1.41-.59l7.78-7.78 2.81-2.81c.8-.78.8-2.07 0-2.86zM5.41 20L4 18.59l7.72-7.72 1.47 1.35L5.41 20z\"/>\n",
              "  </svg>\n",
              "      </button>\n",
              "      \n",
              "  <style>\n",
              "    .colab-df-container {\n",
              "      display:flex;\n",
              "      flex-wrap:wrap;\n",
              "      gap: 12px;\n",
              "    }\n",
              "\n",
              "    .colab-df-convert {\n",
              "      background-color: #E8F0FE;\n",
              "      border: none;\n",
              "      border-radius: 50%;\n",
              "      cursor: pointer;\n",
              "      display: none;\n",
              "      fill: #1967D2;\n",
              "      height: 32px;\n",
              "      padding: 0 0 0 0;\n",
              "      width: 32px;\n",
              "    }\n",
              "\n",
              "    .colab-df-convert:hover {\n",
              "      background-color: #E2EBFA;\n",
              "      box-shadow: 0px 1px 2px rgba(60, 64, 67, 0.3), 0px 1px 3px 1px rgba(60, 64, 67, 0.15);\n",
              "      fill: #174EA6;\n",
              "    }\n",
              "\n",
              "    [theme=dark] .colab-df-convert {\n",
              "      background-color: #3B4455;\n",
              "      fill: #D2E3FC;\n",
              "    }\n",
              "\n",
              "    [theme=dark] .colab-df-convert:hover {\n",
              "      background-color: #434B5C;\n",
              "      box-shadow: 0px 1px 3px 1px rgba(0, 0, 0, 0.15);\n",
              "      filter: drop-shadow(0px 1px 2px rgba(0, 0, 0, 0.3));\n",
              "      fill: #FFFFFF;\n",
              "    }\n",
              "  </style>\n",
              "\n",
              "      <script>\n",
              "        const buttonEl =\n",
              "          document.querySelector('#df-f829c634-6f16-49e2-9ff2-1d746c4694ab button.colab-df-convert');\n",
              "        buttonEl.style.display =\n",
              "          google.colab.kernel.accessAllowed ? 'block' : 'none';\n",
              "\n",
              "        async function convertToInteractive(key) {\n",
              "          const element = document.querySelector('#df-f829c634-6f16-49e2-9ff2-1d746c4694ab');\n",
              "          const dataTable =\n",
              "            await google.colab.kernel.invokeFunction('convertToInteractive',\n",
              "                                                     [key], {});\n",
              "          if (!dataTable) return;\n",
              "\n",
              "          const docLinkHtml = 'Like what you see? Visit the ' +\n",
              "            '<a target=\"_blank\" href=https://colab.research.google.com/notebooks/data_table.ipynb>data table notebook</a>'\n",
              "            + ' to learn more about interactive tables.';\n",
              "          element.innerHTML = '';\n",
              "          dataTable['output_type'] = 'display_data';\n",
              "          await google.colab.output.renderOutput(dataTable, element);\n",
              "          const docLink = document.createElement('div');\n",
              "          docLink.innerHTML = docLinkHtml;\n",
              "          element.appendChild(docLink);\n",
              "        }\n",
              "      </script>\n",
              "    </div>\n",
              "  </div>\n",
              "  "
            ],
            "text/plain": [
              "          Id  roberta_neg  roberta_neu  roberta_pos  restaurant_ids  \\\n",
              "0          0     0.005796     0.054793     0.939411               1   \n",
              "1          1     0.984013     0.013361     0.002626               1   \n",
              "2          2     0.002001     0.007393     0.990606               1   \n",
              "3          3     0.003910     0.041748     0.954342               1   \n",
              "4          4     0.003776     0.144302     0.851922               1   \n",
              "...      ...          ...          ...          ...             ...   \n",
              "14294  14309     0.001061     0.009207     0.989732             652   \n",
              "14295  14310     0.001514     0.005663     0.992823             652   \n",
              "14296  14311     0.001741     0.010284     0.987975             652   \n",
              "14297  14312     0.001966     0.005208     0.992825             652   \n",
              "14298  14313     0.001734     0.005403     0.992863             652   \n",
              "\n",
              "                                  id_review  \\\n",
              "0      ChdDSUhNMG9nS0VJQ0FnSURSOTRpbmxnRRAB   \n",
              "1      ChdDSUhNMG9nS0VJQ0FnSURScktPaDV3RRAB   \n",
              "2       ChZDSUhNMG9nS0VJQ0FnSURSNUotOUt3EAE   \n",
              "3      ChdDSUhNMG9nS0VJQ0FnSURSNklYTG93RRAB   \n",
              "4       ChZDSUhNMG9nS0VJQ0FnSUNPNXJhd0VREAE   \n",
              "...                                     ...   \n",
              "14294   ChZDSUhNMG9nS0VJQ0FnSURocThfa0xREAE   \n",
              "14295  ChdDSUhNMG9nS0VJQ0FnSUNSdEtyQm13RRAB   \n",
              "14296  ChdDSUhNMG9nS0VJQ0FnSURoOTd5RmtnRRAB   \n",
              "14297  ChdDSUhNMG9nS0VJQ0FnSURoeC1ua2dRRRAB   \n",
              "14298   ChZDSUhNMG9nS0VJQ0FnSURobTV6UUhBEAE   \n",
              "\n",
              "                                                 caption relative_date  \\\n",
              "0                                       Great experience    6 days ago   \n",
              "1      Must be the worst dominos in the world.   Pizz...   3 weeks ago   \n",
              "2            They are so nice and the Food is Perfect !!   3 weeks ago   \n",
              "3      Staff was friendly and helpful. The deals make...   3 weeks ago   \n",
              "4              Been coming here for awhile usually happy   a month ago   \n",
              "...                                                  ...           ...   \n",
              "14294  Went there with some friends. The pasta was de...   a month ago   \n",
              "14295  We had a lovely dinner here tonight for my hus...   a month ago   \n",
              "14296  We rocked in late and were greeted with wonder...   a month ago   \n",
              "14297  Super relaxed and authentic atmosphere with th...   a month ago   \n",
              "14298  Mircos service tonight was amazing, we loved e...   a month ago   \n",
              "\n",
              "                   username                        name    cuisine  \n",
              "0              Sandeep Kaur  Domino's Pizza Flinders St  Fast Food  \n",
              "1          Robert McFarland  Domino's Pizza Flinders St  Fast Food  \n",
              "2         Patricia Tchialeu  Domino's Pizza Flinders St  Fast Food  \n",
              "3               Brent Folan  Domino's Pizza Flinders St  Fast Food  \n",
              "4      Johnathan Vanderwerf  Domino's Pizza Flinders St  Fast Food  \n",
              "...                     ...                         ...        ...  \n",
              "14294         Maria Varvara           Da Guido La Pasta    Italian  \n",
              "14295            Emily Dale           Da Guido La Pasta    Italian  \n",
              "14296             Kat Moore           Da Guido La Pasta    Italian  \n",
              "14297        Leslie Schmidt           Da Guido La Pasta    Italian  \n",
              "14298         Shaun Marolia           Da Guido La Pasta    Italian  \n",
              "\n",
              "[14299 rows x 11 columns]"
            ]
          },
          "execution_count": 47,
          "metadata": {},
          "output_type": "execute_result"
        }
      ],
      "source": [
        "results_df = results_df.reset_index().rename(columns={'index': 'Id'})\n",
        "\n",
        "results_df = results_df.merge(df, how='left')\n",
        "\n",
        "results_df"
      ]
    },
    {
      "attachments": {},
      "cell_type": "markdown",
      "metadata": {
        "id": "W__JufxCbeNA"
      },
      "source": [
        "SAVE CSV FILE then ADD INTO DATABASE"
      ]
    },
    {
      "cell_type": "code",
      "execution_count": 48,
      "metadata": {
        "id": "SqsXuIX_jxBv"
      },
      "outputs": [],
      "source": [
        "reviews_scores = results_df.to_csv('output/reviews_scores.csv', index=False)"
      ]
    },
    {
      "cell_type": "code",
      "execution_count": 49,
      "metadata": {
        "colab": {
          "base_uri": "https://localhost:8080/"
        },
        "id": "wT7gQQjPkH0v",
        "outputId": "1ad16bcb-786b-4382-edaf-cfb306716ab1"
      },
      "outputs": [
        {
          "name": "stdout",
          "output_type": "stream",
          "text": [
            "['.config', 'cleaned_reviews2.csv', '.ipynb_checkpoints', 'reviews_scores.csv', 'sample_data']\n"
          ]
        }
      ],
      "source": [
        "import os\n",
        "print(os.listdir())"
      ]
    },
    {
      "cell_type": "code",
      "execution_count": null,
      "metadata": {
        "id": "FRF-VHeKkPeQ"
      },
      "outputs": [],
      "source": []
    }
  ],
  "metadata": {
    "colab": {
      "provenance": []
    },
    "kernelspec": {
      "display_name": "Proj4",
      "language": "python",
      "name": "python3"
    },
    "language_info": {
      "codemirror_mode": {
        "name": "ipython",
        "version": 3
      },
      "file_extension": ".py",
      "mimetype": "text/x-python",
      "name": "python",
      "nbconvert_exporter": "python",
      "pygments_lexer": "ipython3",
      "version": "3.9.16"
    },
    "orig_nbformat": 4
  },
  "nbformat": 4,
  "nbformat_minor": 0
}
