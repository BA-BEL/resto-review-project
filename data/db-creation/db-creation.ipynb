{
 "cells": [
  {
   "cell_type": "code",
   "execution_count": 8,
   "metadata": {},
   "outputs": [],
   "source": [
    "#   Dependencies\n",
    "import pandas as pd\n",
    "\n",
    "import sqlalchemy\n",
    "from sqlalchemy import create_engine, inspect\n",
    "from sqlalchemy.ext.declarative import declarative_base\n",
    "from sqlalchemy.orm import Session\n",
    "from sqlalchemy import Column, Integer, String, Float, DateTime\n"
   ]
  },
  {
   "attachments": {},
   "cell_type": "markdown",
   "metadata": {},
   "source": [
    "---\n",
    "# Database Creation"
   ]
  },
  {
   "attachments": {},
   "cell_type": "markdown",
   "metadata": {},
   "source": [
    "### Mock Data"
   ]
  },
  {
   "cell_type": "code",
   "execution_count": 9,
   "metadata": {},
   "outputs": [
    {
     "data": {
      "text/html": [
       "<div>\n",
       "<style scoped>\n",
       "    .dataframe tbody tr th:only-of-type {\n",
       "        vertical-align: middle;\n",
       "    }\n",
       "\n",
       "    .dataframe tbody tr th {\n",
       "        vertical-align: top;\n",
       "    }\n",
       "\n",
       "    .dataframe thead th {\n",
       "        text-align: right;\n",
       "    }\n",
       "</style>\n",
       "<table border=\"1\" class=\"dataframe\">\n",
       "  <thead>\n",
       "    <tr style=\"text-align: right;\">\n",
       "      <th></th>\n",
       "      <th>Id</th>\n",
       "      <th>vader_neg</th>\n",
       "      <th>vader_neu</th>\n",
       "      <th>vader_pos</th>\n",
       "      <th>vader_compound</th>\n",
       "      <th>roberta_neg</th>\n",
       "      <th>roberta_neu</th>\n",
       "      <th>roberta_pos</th>\n",
       "      <th>Review</th>\n",
       "      <th>Liked</th>\n",
       "      <th>sentiment</th>\n",
       "      <th>Cuisine</th>\n",
       "      <th>Restaurant_id</th>\n",
       "    </tr>\n",
       "  </thead>\n",
       "  <tbody>\n",
       "    <tr>\n",
       "      <th>0</th>\n",
       "      <td>0</td>\n",
       "      <td>0.000</td>\n",
       "      <td>0.435</td>\n",
       "      <td>0.565</td>\n",
       "      <td>0.5994</td>\n",
       "      <td>0.002303</td>\n",
       "      <td>0.010709</td>\n",
       "      <td>0.986987</td>\n",
       "      <td>Wow... Loved this place.</td>\n",
       "      <td>1</td>\n",
       "      <td>5 stars</td>\n",
       "      <td>Italian</td>\n",
       "      <td>0</td>\n",
       "    </tr>\n",
       "    <tr>\n",
       "      <th>1</th>\n",
       "      <td>1</td>\n",
       "      <td>0.445</td>\n",
       "      <td>0.555</td>\n",
       "      <td>0.000</td>\n",
       "      <td>-0.3412</td>\n",
       "      <td>0.964183</td>\n",
       "      <td>0.032228</td>\n",
       "      <td>0.003589</td>\n",
       "      <td>Crust is not good.</td>\n",
       "      <td>0</td>\n",
       "      <td>2 stars</td>\n",
       "      <td>Italian</td>\n",
       "      <td>0</td>\n",
       "    </tr>\n",
       "  </tbody>\n",
       "</table>\n",
       "</div>"
      ],
      "text/plain": [
       "   Id  vader_neg  vader_neu  vader_pos  vader_compound  roberta_neg  \\\n",
       "0   0      0.000      0.435      0.565          0.5994     0.002303   \n",
       "1   1      0.445      0.555      0.000         -0.3412     0.964183   \n",
       "\n",
       "   roberta_neu  roberta_pos                    Review  Liked sentiment  \\\n",
       "0     0.010709     0.986987  Wow... Loved this place.      1   5 stars   \n",
       "1     0.032228     0.003589        Crust is not good.      0   2 stars   \n",
       "\n",
       "   Cuisine  Restaurant_id  \n",
       "0  Italian              0  \n",
       "1  Italian              0  "
      ]
     },
     "execution_count": 9,
     "metadata": {},
     "output_type": "execute_result"
    }
   ],
   "source": [
    "#   Read in Mock data\n",
    "df = pd.read_csv(\"./../results_with_sentiment.csv\")\n",
    "\n",
    "#   Display preview\n",
    "df.head(2)"
   ]
  },
  {
   "cell_type": "code",
   "execution_count": 12,
   "metadata": {},
   "outputs": [
    {
     "data": {
      "text/plain": [
       "Index(['Id', 'vader_neg', 'vader_neu', 'vader_pos', 'vader_compound',\n",
       "       'roberta_neg', 'roberta_neu', 'roberta_pos', 'Review', 'Liked',\n",
       "       'sentiment', 'Cuisine', 'Restaurant_id'],\n",
       "      dtype='object')"
      ]
     },
     "execution_count": 12,
     "metadata": {},
     "output_type": "execute_result"
    }
   ],
   "source": [
    "#   Display columns\n",
    "df.columns"
   ]
  },
  {
   "cell_type": "code",
   "execution_count": 14,
   "metadata": {},
   "outputs": [],
   "source": [
    "#   Establish Base for table's class construction\n",
    "Base = declarative_base()\n",
    "\n",
    "#   mock table class construction\n",
    "\n",
    "class Mock(Base):\n",
    "    __tablename__ = \"mock\"\n",
    "\n",
    "    id = Column(Integer, primary_key = True)\n",
    "\n",
    "    vader_neg = Column(Float)\n",
    "    vader_neu = Column(Float)\n",
    "    vader_pos = Column(Float)\n",
    "    vader_compound = Column(Float)\n",
    "\n",
    "    roberta_neg = Column(Float)\n",
    "    roberta_neu = Column(Float)\n",
    "    roberta_pos = Column(Float)\n",
    "    \n",
    "    review = Column(String)\n",
    "    liked = Column(Integer)\n",
    "    sentiment = Column(String)\n",
    "\n",
    "    cuisine = Column(String)\n",
    "    restaurant_id = Column(Integer)"
   ]
  },
  {
   "cell_type": "code",
   "execution_count": 15,
   "metadata": {},
   "outputs": [],
   "source": [
    "#   Create engine \n",
    "engine = create_engine(\"sqlite:///../reviews.sqlite\")\n",
    "\n",
    "#   Connect to database\n",
    "con = engine.connect()\n",
    "\n",
    "#   Create the mock table within the db\n",
    "Base.metadata.create_all(con)\n",
    "\n",
    "#   Export df to db table\n",
    "df.to_sql(\"mock\", con, if_exists = \"replace\")"
   ]
  },
  {
   "attachments": {},
   "cell_type": "markdown",
   "metadata": {},
   "source": [
    "## Lorem Data"
   ]
  },
  {
   "cell_type": "code",
   "execution_count": null,
   "metadata": {},
   "outputs": [],
   "source": []
  }
 ],
 "metadata": {
  "kernelspec": {
   "display_name": "PythonData",
   "language": "python",
   "name": "python3"
  },
  "language_info": {
   "codemirror_mode": {
    "name": "ipython",
    "version": 3
   },
   "file_extension": ".py",
   "mimetype": "text/x-python",
   "name": "python",
   "nbconvert_exporter": "python",
   "pygments_lexer": "ipython3",
   "version": "3.7.7"
  },
  "orig_nbformat": 4
 },
 "nbformat": 4,
 "nbformat_minor": 2
}
